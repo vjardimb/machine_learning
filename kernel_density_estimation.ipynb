{
  "nbformat": 4,
  "nbformat_minor": 0,
  "metadata": {
    "colab": {
      "name": "TP4_Machine learning.ipynb",
      "provenance": []
    },
    "kernelspec": {
      "name": "python3",
      "display_name": "Python 3"
    },
    "language_info": {
      "name": "python"
    }
  },
  "cells": [
    {
      "cell_type": "code",
      "execution_count": null,
      "metadata": {
        "id": "yGOfEQndDek1"
      },
      "outputs": [],
      "source": [
        "import math \n",
        "import matplotlib.pyplot as plt\n",
        "import numpy as np"
      ]
    },
    {
      "cell_type": "code",
      "source": [
        "[X_train, y_train, X_test, y_test] = np.load(\"TP4.npy\",allow_pickle=True)\n",
        "#C0\n",
        "C0_train = X_train[np.where(y_train==0),:][0]\n",
        "C0_test = X_test[np.where(y_test==0),:]\n",
        "C0_ecart_type_max = max(np.std(C0_train[:,0]),np.std(C0_train[:,1]))\n",
        "\n",
        "#C1\n",
        "C1_train = X_train[np.where(y_train==1),:][0]\n",
        "C1_test = X_test[np.where(y_test==1),:][0]\n",
        "C1_ecart_type_max = max(np.std(C1_train[:,0]),np.std(C1_train[:,1]))\n",
        "\n",
        "print(np.shape(C0_train))\n",
        "print(np.shape(C1_train))\n",
        "print(C0_ecart_type_max)\n",
        "print(C1_ecart_type_max)\n",
        "\n",
        "plt.plot(C0_train[:,0], C0_train[:,1], '.b')\n",
        "plt.plot(C1_train[:,0], C1_train[:,1], '.r')\n",
        "plt.show()"
      ],
      "metadata": {
        "colab": {
          "base_uri": "https://localhost:8080/",
          "height": 336
        },
        "id": "X_cmc2YeELms",
        "outputId": "599c3904-3e34-4fe0-dea7-a5978d7487dd"
      },
      "execution_count": null,
      "outputs": [
        {
          "output_type": "stream",
          "name": "stdout",
          "text": [
            "(22, 2)\n",
            "(68, 2)\n",
            "1.2049854071503838\n",
            "4.042314473899821\n"
          ]
        },
        {
          "output_type": "display_data",
          "data": {
            "text/plain": [
              "<Figure size 432x288 with 1 Axes>"
            ],
            "image/png": "[encoded data removed]"
          },
          "metadata": {
            "needs_background": "light"
          }
        }
      ]
    },
    {
      "cell_type": "code",
      "source": [
        "def norm2(x, m, cov):\n",
        "  a = np.dot(np.transpose((x-m)), np.linalg.inv(cov))\n",
        "  a = np.dot(a, (x-m))\n",
        "  p = 1/(math.sqrt(2*math.pi*np.linalg.det(cov)))*math.exp(-0.5*a)\n",
        "  return p"
      ],
      "metadata": {
        "id": "x9ol_SkEFy-Y"
      },
      "execution_count": null,
      "outputs": []
    },
    {
      "cell_type": "code",
      "source": [
        "def ddp_parzen(x, X, Cov):\n",
        "  return sum(norm2(x,Xi,Cov) for Xi in X) / len(X)"
      ],
      "metadata": {
        "id": "SD9Z5Or_FoYP"
      },
      "execution_count": null,
      "outputs": []
    },
    {
      "cell_type": "code",
      "source": [
        "Cov0 = np.identity(2)*C0_ecart_type_max\n",
        "Cov1 = np.identity(2)*C1_ecart_type_max\n",
        "\n",
        "print(ddp_parzen(C1_test[0],C1_train,Cov1))\n",
        "print(np.shape(C1_test[0]))"
      ],
      "metadata": {
        "colab": {
          "base_uri": "https://localhost:8080/"
        },
        "id": "SpB1dRPvGVCm",
        "outputId": "5cd7cb5a-bf3d-4b8a-a987-25d7a22d7fdc"
      },
      "execution_count": null,
      "outputs": [
        {
          "output_type": "stream",
          "name": "stdout",
          "text": [
            "0.017070778263504185\n",
            "(2,)\n"
          ]
        }
      ]
    },
    {
      "cell_type": "code",
      "source": [
        "x = np.linspace(1, 20,3)\n",
        "y = np.linspace(1, 20,3)\n",
        "np.array(np.meshgrid(x, y)).T.reshape(-1, 2)\n"
      ],
      "metadata": {
        "colab": {
          "base_uri": "https://localhost:8080/"
        },
        "id": "uGnY4kg-QkIG",
        "outputId": "853dc888-b45b-432b-fb6e-9710f9b4ef8c"
      },
      "execution_count": null,
      "outputs": [
        {
          "output_type": "execute_result",
          "data": {
            "text/plain": [
              "array([[ 1. ,  1. ],\n",
              "       [ 1. , 10.5],\n",
              "       [ 1. , 20. ],\n",
              "       [10.5,  1. ],\n",
              "       [10.5, 10.5],\n",
              "       [10.5, 20. ],\n",
              "       [20. ,  1. ],\n",
              "       [20. , 10.5],\n",
              "       [20. , 20. ]])"
            ]
          },
          "metadata": {},
          "execution_count": 7
        }
      ]
    },
    {
      "cell_type": "code",
      "source": [
        "x = np.linspace(1, 20,30)\n",
        "y = np.linspace(1, 20,30)\n",
        "xx,yy = np.meshgrid(x, y,sparse=True)\n",
        "p0 = [ [ddp_parzen([yyyy,xxxx],C0_train,Cov0) for xxxx in xxx for yyyy in yyy ] for xxx in xx  for yyy in yy]\n",
        "p1 = [ [ddp_parzen([yyyy,xxxx],C1_train,Cov1) for xxxx in xxx for yyyy in yyy ] for xxx in xx  for yyy in yy]\n",
        "\n",
        "h0 = plt.contourf(x, y, p0,cmap= 'inferno_r')\n",
        "h1 = plt.contourf(x, y, p1,cmap= 'inferno_r')\n",
        "\n",
        "plt.axis('scaled')\n",
        "plt.colorbar()\n",
        "plt.show()"
      ],
      "metadata": {
        "colab": {
          "base_uri": "https://localhost:8080/",
          "height": 269
        },
        "id": "AIqj4MFmNZOU",
        "outputId": "e6db6cc0-5086-4c23-db77-0d1e1bb40cc9"
      },
      "execution_count": null,
      "outputs": [
        {
          "output_type": "display_data",
          "data": {
            "text/plain": [
              "<Figure size 432x288 with 2 Axes>"
            ],
            "image/png": "[encoded data removed]"
          },
          "metadata": {
            "needs_background": "light"
          }
        }
      ]
    }
  ]
}